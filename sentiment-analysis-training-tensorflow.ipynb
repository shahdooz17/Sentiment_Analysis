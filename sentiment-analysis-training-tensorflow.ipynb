{
  "cells": [
    {
      "cell_type": "code",
      "execution_count": 1,
      "metadata": {
        "id": "_-hQUmnWJhM2"
      },
      "outputs": [],
      "source": [
        "seed = 42\n",
        "valid_test_size = 0.2\n",
        "maxlen = 100 # length of one training sample by words\n",
        "vector_len = 100 # length of embedding vectors for each word"
      ]
    },
    {
      "cell_type": "markdown",
      "metadata": {
        "id": "q2h6hss15F4x"
      },
      "source": [
        "## `Problem Statement`\n",
        "\n",
        "*   IMDb Movie Reviews is many to one problem.\n",
        "*   Text Sentiment Analysis with RNN.\n",
        "*   pre-trained Glove Embeddings.\n",
        "\n"
      ]
    },
    {
      "cell_type": "markdown",
      "metadata": {
        "id": "Gco9PHvP6Gcf"
      },
      "source": [
        "## `IMPORTS`"
      ]
    },
    {
      "cell_type": "code",
      "execution_count": 2,
      "metadata": {
        "id": "pldHkOQC5FGl"
      },
      "outputs": [],
      "source": [
        "import numpy as np\n",
        "import keras\n",
        "from keras.preprocessing.text import Tokenizer\n",
        "from keras.preprocessing.sequence import pad_sequences\n",
        "import pandas as pd\n",
        "import seaborn as sns\n",
        "import matplotlib.pyplot as plt\n",
        "import re\n",
        "import nltk\n",
        "from nltk.corpus import  stopwords\n",
        "from sklearn.model_selection import train_test_split\n",
        "from zipfile import ZipFile\n"
      ]
    },
    {
      "cell_type": "markdown",
      "metadata": {
        "id": "TNCEA6TN6-9_"
      },
      "source": [
        "## `Get and visualize the Dataset`"
      ]
    },
    {
      "cell_type": "code",
      "execution_count": 3,
      "metadata": {
        "colab": {
          "base_uri": "https://localhost:8080/"
        },
        "id": "UGqk5myf7DI3",
        "outputId": "80e9bda5-8a85-4662-ac5f-38461aa230e8"
      },
      "outputs": [
        {
          "name": "stdout",
          "output_type": "stream",
          "text": [
            "Downloading...\n",
            "From: https://drive.google.com/uc?id=1He6pot7hsWfSURS0Kh-MlmDyQqfRUUdd\n",
            "To: /content/a1_IMDB_Dataset.csv\n",
            "100% 66.2M/66.2M [00:00<00:00, 72.8MB/s]\n"
          ]
        }
      ],
      "source": [
        "!gdown 1He6pot7hsWfSURS0Kh-MlmDyQqfRUUdd"
      ]
    },
    {
      "cell_type": "code",
      "execution_count": 4,
      "metadata": {
        "colab": {
          "base_uri": "https://localhost:8080/"
        },
        "id": "pe2suxl57N6V",
        "outputId": "2a421492-8db0-4beb-9edd-7d30c5ab5711"
      },
      "outputs": [
        {
          "name": "stdout",
          "output_type": "stream",
          "text": [
            "<class 'pandas.core.frame.DataFrame'>\n",
            "RangeIndex: 50000 entries, 0 to 49999\n",
            "Data columns (total 2 columns):\n",
            " #   Column     Non-Null Count  Dtype \n",
            "---  ------     --------------  ----- \n",
            " 0   review     50000 non-null  object\n",
            " 1   sentiment  50000 non-null  object\n",
            "dtypes: object(2)\n",
            "memory usage: 781.4+ KB\n",
            "None\n"
          ]
        }
      ],
      "source": [
        "# Little bit statistics\n",
        "df_reviews = pd.read_csv('/content/a1_IMDB_Dataset.csv')\n",
        "print(df_reviews.info())"
      ]
    },
    {
      "cell_type": "markdown",
      "metadata": {
        "id": "s-Q2PB0m8FOD"
      },
      "source": [
        "- Dataset hasn't missing values, so no need for Data cleaning step"
      ]
    },
    {
      "cell_type": "code",
      "execution_count": 5,
      "metadata": {
        "colab": {
          "base_uri": "https://localhost:8080/"
        },
        "id": "zIJ_RiDu7_lr",
        "outputId": "5250db1d-5361-4627-af21-1ae05c550756"
      },
      "outputs": [
        {
          "name": "stdout",
          "output_type": "stream",
          "text": [
            "                                              review sentiment\n",
            "0  One of the other reviewers has mentioned that ...  positive\n",
            "1  A wonderful little production. <br /><br />The...  positive\n",
            "2  I thought this was a wonderful way to spend ti...  positive\n",
            "3  Basically there's a family where a little boy ...  negative\n",
            "4  Petter Mattei's \"Love in the Time of Money\" is...  positive\n"
          ]
        }
      ],
      "source": [
        "# Print first 5 rows\n",
        "print(df_reviews.head(5))"
      ]
    },
    {
      "cell_type": "code",
      "execution_count": 6,
      "metadata": {
        "colab": {
          "base_uri": "https://localhost:8080/",
          "height": 311
        },
        "id": "fIyerlo9876-",
        "outputId": "14b02b64-3668-4a50-8333-e2cac3158a7a"
      },
      "outputs": [
        {
          "data": {
            "image/png": "[encoded data removed]",
            "text/plain": [
              "<Figure size 400x300 with 1 Axes>"
            ]
          },
          "metadata": {},
          "output_type": "display_data"
        }
      ],
      "source": [
        "# Visualizing of positive/negative sentiments in dataset\n",
        "plt.figure(figsize=(4,3))\n",
        "sns.countplot(x='sentiment', data=df_reviews, palette=sns.palettes.mpl_palette('Dark2')[0:2], hue='sentiment');"
      ]
    },
    {
      "cell_type": "code",
      "execution_count": 7,
      "metadata": {
        "colab": {
          "base_uri": "https://localhost:8080/"
        },
        "id": "j2Zc_LSVzjXU",
        "outputId": "5dc4cdc2-ccb5-47f7-ab48-3d5eda31ed78"
      },
      "outputs": [
        {
          "name": "stdout",
          "output_type": "stream",
          "text": [
            "One of the other reviewers has mentioned that after watching just 1 Oz episode you'll be hooked. They are right, as this is exactly what happened with me.<br /><br />The first thing that struck me about Oz was its brutality and unflinching scenes of violence, which set in right from the word GO. Trust me, this is not a show for the faint hearted or timid. This show pulls no punches with regards to drugs, sex or violence. Its is hardcore, in the classic use of the word.<br /><br />It is called OZ as that is the nickname given to the Oswald Maximum Security State Penitentary. It focuses mainly on Emerald City, an experimental section of the prison where all the cells have glass fronts and face inwards, so privacy is not high on the agenda. Em City is home to many..Aryans, Muslims, gangstas, Latinos, Christians, Italians, Irish and more....so scuffles, death stares, dodgy dealings and shady agreements are never far away.<br /><br />I would say the main appeal of the show is due to the fact that it goes where other shows wouldn't dare. Forget pretty pictures painted for mainstream audiences, forget charm, forget romance...OZ doesn't mess around. The first episode I ever saw struck me as so nasty it was surreal, I couldn't say I was ready for it, but as I watched more, I developed a taste for Oz, and got accustomed to the high levels of graphic violence. Not just violence, but injustice (crooked guards who'll be sold out for a nickel, inmates who'll kill on order and get away with it, well mannered, middle class inmates being turned into prison bitches due to their lack of street skills or prison experience) Watching Oz, you may become comfortable with what is uncomfortable viewing....thats if you can get in touch with your darker side.\n"
          ]
        }
      ],
      "source": [
        "print(df_reviews[\"review\"][0])\n"
      ]
    },
    {
      "cell_type": "markdown",
      "metadata": {
        "id": "FvsvAVPYzmc0"
      },
      "source": [
        "- We will need to deals with **punctuations**, brackets, HTML tags and numbers"
      ]
    },
    {
      "cell_type": "markdown",
      "metadata": {
        "id": "bnba3eqCIwM5"
      },
      "source": [
        "## `STEP: DATA SPLIT`"
      ]
    },
    {
      "cell_type": "code",
      "execution_count": 8,
      "metadata": {
        "colab": {
          "base_uri": "https://localhost:8080/"
        },
        "id": "kGTrPHuFIsol",
        "outputId": "1bdf2a4f-9be4-49e1-a1ee-6d436ab2670a"
      },
      "outputs": [
        {
          "name": "stdout",
          "output_type": "stream",
          "text": [
            "(40000, 2), (5000, 2), (5000, 2)\n"
          ]
        }
      ],
      "source": [
        "df_reviews_train, df_reviews_test = train_test_split(df_reviews, test_size=valid_test_size, random_state=seed)\n",
        "df_reviews_valid, df_reviews_test = train_test_split(df_reviews_test, test_size=0.5, random_state=seed)\n",
        "\n",
        "print(df_reviews_train.shape, df_reviews_test.shape, df_reviews_valid.shape, sep=', ')"
      ]
    },
    {
      "cell_type": "markdown",
      "metadata": {
        "id": "eQHX_bvqAeH3"
      },
      "source": [
        "## `STEP: DATA PRE-PROCESSING`"
      ]
    },
    {
      "cell_type": "code",
      "execution_count": 9,
      "metadata": {
        "id": "zb0FzPSICJ-_"
      },
      "outputs": [],
      "source": [
        "def parse_function(text, cls, language='english'):\n",
        "\n",
        "    text = text.lower()\n",
        "    # for html tags\n",
        "    html_tags_regex = re.compile(r'<[^>]+>')\n",
        "    # for punctuations\n",
        "    punctuations_regex = re.compile(r'[^a-z0-9\\s]+')\n",
        "    # for words that contains numbers like f4g\n",
        "    words_contains_numbers_regex = re.compile(r'\\w*\\d+\\w*')\n",
        "    # for urls and links\n",
        "    urls_regex = re.compile(r'https?:\\/\\/\\s+|www\\.\\s+')\n",
        "    # for stopwords\n",
        "    nltk.download('stopwords', quiet=True)\n",
        "    stopwords_regex = re.compile(r'\\b(' + r'|'.join(stopwords.words('english')) + r')\\b\\s*')\n",
        "    # for multiple spaces and newlines\n",
        "    multi_space_regex = re.compile(r'\\n+|\\s+')\n",
        "\n",
        "    text = html_tags_regex.sub(' ', text)\n",
        "    text = punctuations_regex.sub(' ', text)\n",
        "    text = words_contains_numbers_regex.sub(' ', text)\n",
        "    text = urls_regex.sub(' ', text)\n",
        "    text = stopwords_regex.sub(' ', text)\n",
        "    text = multi_space_regex.sub(' ', text)\n",
        "    text = text.strip()\n",
        "\n",
        "    label=0\n",
        "    if cls == 'positive':\n",
        "        label = 1\n",
        "\n",
        "    return text, label\n",
        "\n",
        "\n",
        "## function to map preprocess_function for al rows for a dataframe\n",
        "def mymap(df_reviews, lang='english'):\n",
        "    prepro_reviews = {'reviews':[], 'labels':[]}\n",
        "\n",
        "    for text, cls in df_reviews.values:\n",
        "        review, label = parse_function(text, cls)\n",
        "        prepro_reviews['reviews'].append(review)\n",
        "        prepro_reviews['labels'].append(label)\n",
        "\n",
        "    return prepro_reviews"
      ]
    },
    {
      "cell_type": "code",
      "execution_count": 10,
      "metadata": {
        "id": "iE_jm7wiLHoL"
      },
      "outputs": [],
      "source": [
        "# Calling preprocess_function on reviews\n",
        "df_prepro_reviews_train = pd.DataFrame(mymap(df_reviews_train))\n",
        "df_prepro_reviews_valid = pd.DataFrame(mymap(df_reviews_valid))\n",
        "df_prepro_reviews_test = pd.DataFrame(mymap(df_reviews_test))\n"
      ]
    },
    {
      "cell_type": "code",
      "execution_count": 11,
      "metadata": {
        "colab": {
          "base_uri": "https://localhost:8080/"
        },
        "id": "noUu9GjJja-k",
        "outputId": "a7b75839-ae74-4c4c-bd24-1c259b4038bb"
      },
      "outputs": [
        {
          "name": "stdout",
          "output_type": "stream",
          "text": [
            "(40000,), (5000,), (5000,), (40000,), (5000,), (5000,)\n"
          ]
        }
      ],
      "source": [
        "x_train = df_prepro_reviews_train['reviews'].values\n",
        "y_train = df_prepro_reviews_train['labels'].values\n",
        "\n",
        "x_valid = df_prepro_reviews_valid['reviews'].values\n",
        "y_valid = df_prepro_reviews_valid['labels'].values\n",
        "\n",
        "x_test = df_prepro_reviews_test['reviews'].values\n",
        "y_test = df_prepro_reviews_test['labels'].values\n",
        "\n",
        "print(x_train.shape, x_valid.shape, x_test.shape, y_train.shape, y_valid.shape, y_test.shape, sep=', ')"
      ]
    },
    {
      "cell_type": "markdown",
      "metadata": {
        "id": "9qS85TGZ5aOy"
      },
      "source": [
        "### Tokenization and Padding step"
      ]
    },
    {
      "cell_type": "code",
      "execution_count": 12,
      "metadata": {
        "id": "d71JIobxIYrF"
      },
      "outputs": [],
      "source": [
        "### Tokenization step\n",
        "word_tokenizer = Tokenizer()\n",
        "word_tokenizer.fit_on_texts(x_train)\n",
        "\n",
        "x_train = word_tokenizer.texts_to_sequences(x_train)\n",
        "x_valid = word_tokenizer.texts_to_sequences(x_valid)\n",
        "x_test = word_tokenizer.texts_to_sequences(x_test)"
      ]
    },
    {
      "cell_type": "code",
      "execution_count": 13,
      "metadata": {
        "colab": {
          "base_uri": "https://localhost:8080/"
        },
        "id": "Nfh3S_SDo8qd",
        "outputId": "7bcff724-bacf-4586-c638-0adca1f8ee2e"
      },
      "outputs": [
        {
          "name": "stdout",
          "output_type": "stream",
          "text": [
            "90613\n"
          ]
        }
      ],
      "source": [
        "vocab_size = len(word_tokenizer.word_index) + 1\n",
        "print(vocab_size)"
      ]
    },
    {
      "cell_type": "code",
      "execution_count": 14,
      "metadata": {
        "id": "Xy0-3tSArYn3"
      },
      "outputs": [],
      "source": [
        "# Padding all reviews to fixed length, if you will truncate then truncate latest words as for many times first words contain\n",
        "\n",
        "X_train = pad_sequences(x_train, padding='post', truncating='post', maxlen=maxlen)\n",
        "X_valid = pad_sequences(x_valid, padding='post', truncating='post', maxlen=maxlen)\n",
        "X_test = pad_sequences(x_test, padding='post', truncating='post', maxlen=maxlen)"
      ]
    },
    {
      "cell_type": "markdown",
      "metadata": {
        "id": "G1k-4v6q5cxN"
      },
      "source": [
        "### Form Embedding matrix step"
      ]
    },
    {
      "cell_type": "code",
      "execution_count": 20,
      "metadata": {
        "id": "fzt2GsXxzJ6S"
      },
      "outputs": [],
      "source": [
        "### Embedding step\n",
        "\n",
        "# download and load pre-trained embedding weights\n",
        "!cp '/content/drive/MyDrive/DataSets-and-Models/glove.6B.zip' '/content/'\n",
        "\n",
        "with ZipFile('/content/glove.6B.zip') as file:\n",
        "    file.extract('glove.6B.100d.txt')"
      ]
    },
    {
      "cell_type": "code",
      "execution_count": 21,
      "metadata": {
        "colab": {
          "base_uri": "https://localhost:8080/"
        },
        "id": "YyCKTTlk5m0p",
        "outputId": "83c180ef-1e70-482e-8b45-7181bf1367d2"
      },
      "outputs": [
        {
          "name": "stdout",
          "output_type": "stream",
          "text": [
            "Loaded 400000 word vectors.\n",
            "Embedding matrix shape:  (90613, 100)\n"
          ]
        }
      ],
      "source": [
        "# form an embedding matrix form glove pre-trained embedding weights for my vocab\n",
        "glove_embeddings_index = dict()\n",
        "f = open('glove.6B.100d.txt')\n",
        "for line in f:\n",
        "    values = line.split()\n",
        "    word = values[0]\n",
        "    coefs = np.asarray(values[1:], dtype='float32')\n",
        "    glove_embeddings_index[word] = coefs\n",
        "f.close()\n",
        "print('Loaded %s word vectors.' % len(glove_embeddings_index))\n",
        "\n",
        "# create a weight matrix for words in training docs\n",
        "embedding_matrix = np.zeros((vocab_size, 100))\n",
        "for word, i in word_tokenizer.word_index.items():\n",
        "    embedding_vector = glove_embeddings_index.get(word)\n",
        "    if embedding_vector is not None:\n",
        "        embedding_matrix[i] = embedding_vector\n",
        "\n",
        "print(\"Embedding matrix shape: \" ,embedding_matrix.shape)"
      ]
    },
    {
      "cell_type": "code",
      "execution_count": 22,
      "metadata": {
        "colab": {
          "base_uri": "https://localhost:8080/"
        },
        "id": "YC7U89XCV_lw",
        "outputId": "03a05aae-9080-47b4-ed61-31441fffc5ad"
      },
      "outputs": [
        {
          "name": "stdout",
          "output_type": "stream",
          "text": [
            "['technocrat']\n",
            "[-0.64616001  0.32962     0.66737002  0.016801   -0.17502999 -0.065344\n",
            "  0.45765999 -0.82059997  0.11549     1.28559995 -0.91706997  0.22985999\n",
            "  0.28560999  0.036869    0.64337999 -0.10304     0.26278001 -0.40893999\n",
            "  0.54491001  0.058445   -0.30429     0.80046999 -0.56788999 -1.34560001\n",
            "  0.04228    -0.41119999 -0.53609002 -0.10216    -0.47139999 -0.11201\n",
            " -0.0086239   0.48425999 -0.66461998 -0.68282002  0.43956     0.74883997\n",
            " -0.36093    -0.83109999 -0.012142   -0.42688     0.022329    0.2405\n",
            "  0.54672003  0.017101    0.56026    -0.60991001  0.31336999  0.12178\n",
            " -0.37077001  0.13461    -0.88024002 -0.30087     0.35690999  0.65152001\n",
            " -0.25784999  0.046017   -0.064452    0.42897001 -0.24862     0.19238999\n",
            "  0.15706    -0.43233001 -0.59292001 -0.11925    -0.082742   -0.1531\n",
            "  0.45460001  0.077898    0.38257     0.18278     0.032703   -0.086026\n",
            " -0.39585    -0.31341001 -0.42691001 -0.74557    -0.70718002  0.21468\n",
            "  0.90656    -1.25049996  0.67786998  0.51481998  0.19307999 -0.27096\n",
            "  0.077979    0.022714    0.13489     0.59516001 -0.16809    -0.95624\n",
            "  0.67486    -0.65618002 -0.53413999  0.27623001 -0.0094356   0.070186\n",
            "  0.33122    -0.68019998 -0.61660999  0.11043   ]\n"
          ]
        }
      ],
      "source": [
        "i=90002\n",
        "print(word_tokenizer.sequences_to_texts([[i]]))\n",
        "print(embedding_matrix[i])"
      ]
    },
    {
      "cell_type": "markdown",
      "metadata": {
        "id": "wHu_5YJSXjvT"
      },
      "source": [
        "## `STEP: MODELS TRAINING && Evaluation`"
      ]
    },
    {
      "cell_type": "code",
      "execution_count": 35,
      "metadata": {
        "colab": {
          "base_uri": "https://localhost:8080/"
        },
        "id": "27bAM91rW658",
        "outputId": "b25e02e9-d14b-40cd-9ec8-4ce988f4fa54"
      },
      "outputs": [
        {
          "name": "stdout",
          "output_type": "stream",
          "text": [
            "Model: \"model_2\"\n",
            "_________________________________________________________________\n",
            " Layer (type)                Output Shape              Param #   \n",
            "=================================================================\n",
            " input_3 (InputLayer)        [(None, 100)]             0         \n",
            "                                                                 \n",
            " embedding_2 (Embedding)     (None, 100, 100)          9061300   \n",
            "                                                                 \n",
            " lstm_2 (LSTM)               (None, 128)               117248    \n",
            "                                                                 \n",
            " dense_4 (Dense)             (None, 128)               16512     \n",
            "                                                                 \n",
            " dropout (Dropout)           (None, 128)               0         \n",
            "                                                                 \n",
            " dense_5 (Dense)             (None, 1)                 129       \n",
            "                                                                 \n",
            "=================================================================\n",
            "Total params: 9195189 (35.08 MB)\n",
            "Trainable params: 133889 (523.00 KB)\n",
            "Non-trainable params: 9061300 (34.57 MB)\n",
            "_________________________________________________________________\n"
          ]
        }
      ],
      "source": [
        "# Define Model architecture\n",
        "\n",
        "input = keras.layers.Input((100,))\n",
        "x = keras.layers.Embedding(input_dim=vocab_size, output_dim=vector_len, weights=[embedding_matrix], input_length=maxlen, trainable=False)(input)\n",
        "x = keras.layers.LSTM(units=128)(x)\n",
        "x = keras.layers.Dense(units=128, activation='relu')(x)\n",
        "x = keras.layers.Dropout(0.3)(x)\n",
        "output = keras.layers.Dense(units=1, activation='sigmoid')(x)\n",
        "\n",
        "rnn_model = keras.models.Model(input, output)\n",
        "\n",
        "# Model compiling\n",
        "rnn_model.compile(optimizer='adam', loss='binary_crossentropy', metrics=['acc'])\n",
        "rnn_model.summary()"
      ]
    },
    {
      "cell_type": "code",
      "execution_count": 36,
      "metadata": {
        "colab": {
          "base_uri": "https://localhost:8080/"
        },
        "id": "aAM154yRcKpb",
        "outputId": "3058f753-967c-4c76-b399-afab363bba11"
      },
      "outputs": [
        {
          "name": "stdout",
          "output_type": "stream",
          "text": [
            "Epoch 1/15\n",
            "313/313 [==============================] - 8s 13ms/step - loss: 0.5299 - acc: 0.7378 - val_loss: 0.4527 - val_acc: 0.7860\n",
            "Epoch 2/15\n",
            "313/313 [==============================] - 3s 9ms/step - loss: 0.4274 - acc: 0.8092 - val_loss: 0.4337 - val_acc: 0.7920\n",
            "Epoch 3/15\n",
            "313/313 [==============================] - 3s 9ms/step - loss: 0.3858 - acc: 0.8323 - val_loss: 0.3737 - val_acc: 0.8388\n",
            "Epoch 4/15\n",
            "313/313 [==============================] - 3s 9ms/step - loss: 0.3505 - acc: 0.8511 - val_loss: 0.3741 - val_acc: 0.8390\n",
            "Epoch 5/15\n",
            "313/313 [==============================] - 3s 10ms/step - loss: 0.3327 - acc: 0.8588 - val_loss: 0.3545 - val_acc: 0.8460\n",
            "Epoch 6/15\n",
            "313/313 [==============================] - 4s 11ms/step - loss: 0.3146 - acc: 0.8672 - val_loss: 0.3348 - val_acc: 0.8528\n",
            "Epoch 7/15\n",
            "313/313 [==============================] - 3s 9ms/step - loss: 0.2940 - acc: 0.8779 - val_loss: 0.3417 - val_acc: 0.8448\n",
            "Epoch 8/15\n",
            "313/313 [==============================] - 3s 9ms/step - loss: 0.2784 - acc: 0.8861 - val_loss: 0.3300 - val_acc: 0.8602\n",
            "Epoch 9/15\n",
            "313/313 [==============================] - 3s 9ms/step - loss: 0.2560 - acc: 0.8962 - val_loss: 0.3372 - val_acc: 0.8536\n",
            "Epoch 10/15\n",
            "313/313 [==============================] - 3s 10ms/step - loss: 0.2354 - acc: 0.9061 - val_loss: 0.3741 - val_acc: 0.8468\n",
            "Epoch 11/15\n",
            "313/313 [==============================] - 3s 11ms/step - loss: 0.2075 - acc: 0.9197 - val_loss: 0.3850 - val_acc: 0.8410\n",
            "Epoch 12/15\n",
            "313/313 [==============================] - 3s 10ms/step - loss: 0.1823 - acc: 0.9309 - val_loss: 0.4025 - val_acc: 0.8524\n",
            "Epoch 13/15\n",
            "313/313 [==============================] - 3s 9ms/step - loss: 0.1575 - acc: 0.9426 - val_loss: 0.4481 - val_acc: 0.8466\n",
            "Epoch 14/15\n",
            "313/313 [==============================] - 3s 9ms/step - loss: 0.1430 - acc: 0.9477 - val_loss: 0.5115 - val_acc: 0.8506\n",
            "Epoch 15/15\n",
            "313/313 [==============================] - 3s 10ms/step - loss: 0.1192 - acc: 0.9575 - val_loss: 0.5089 - val_acc: 0.8438\n"
          ]
        }
      ],
      "source": [
        "# Model Training\n",
        "rnn_model_history = rnn_model.fit(X_train, y_train, validation_data=(X_valid, y_valid), batch_size=128, epochs=15, verbose=1)"
      ]
    },
    {
      "cell_type": "code",
      "execution_count": 37,
      "metadata": {
        "colab": {
          "base_uri": "https://localhost:8080/"
        },
        "id": "Gxwfn7lNdA4m",
        "outputId": "a083af97-94cf-4a52-a0ec-2a1068175fe0"
      },
      "outputs": [
        {
          "name": "stdout",
          "output_type": "stream",
          "text": [
            "157/157 [==============================] - 1s 4ms/step - loss: 0.5470 - acc: 0.8414\n"
          ]
        }
      ],
      "source": [
        "# Evaluation on the Test Set\n",
        "score = rnn_model.evaluate(X_test, y_test, verbose=1)"
      ]
    },
    {
      "cell_type": "code",
      "execution_count": 38,
      "metadata": {
        "colab": {
          "base_uri": "https://localhost:8080/",
          "height": 495
        },
        "id": "Np33rmN6oQ3e",
        "outputId": "56cdaaa3-1f49-4b35-9a6a-e1e423554c08"
      },
      "outputs": [
        {
          "data": {
            "image/png": "[encoded data removed]",
            "text/plain": [
              "<Figure size 400x200 with 1 Axes>"
            ]
          },
          "metadata": {},
          "output_type": "display_data"
        },
        {
          "data": {
            "image/png": "[encoded data removed]",
            "text/plain": [
              "<Figure size 400x200 with 1 Axes>"
            ]
          },
          "metadata": {},
          "output_type": "display_data"
        }
      ],
      "source": [
        "# Model Performance Charts\n",
        "\n",
        "import matplotlib.pyplot as plt\n",
        "\n",
        "plt.figure(figsize=(4,2))\n",
        "plt.plot(rnn_model_history.history['acc'])\n",
        "plt.plot(rnn_model_history.history['val_acc'])\n",
        "\n",
        "plt.title('model accuracy')\n",
        "plt.ylabel('accuracy')\n",
        "plt.xlabel('epoch')\n",
        "plt.legend(['train','test'], loc='upper left')\n",
        "plt.show()\n",
        "\n",
        "plt.figure(figsize=(4,2))\n",
        "plt.plot(rnn_model_history.history['loss'])\n",
        "plt.plot(rnn_model_history.history['val_loss'])\n",
        "\n",
        "plt.title('model loss')\n",
        "plt.ylabel('loss')\n",
        "plt.xlabel('epoch')\n",
        "plt.legend(['train','test'], loc='upper left')\n",
        "plt.show()"
      ]
    },
    {
      "cell_type": "code",
      "execution_count": 39,
      "metadata": {
        "id": "DYVIRZAJojDi"
      },
      "outputs": [],
      "source": [
        "# Saving the model as a h5 file for possible use later\n",
        "rnn_model.save(f\"./lstm_model.keras\", save_format='keras')"
      ]
    }
  ],
  "metadata": {
    "accelerator": "GPU",
    "colab": {
      "gpuType": "T4",
      "provenance": []
    },
    "kernelspec": {
      "display_name": "Python 3",
      "name": "python3"
    },
    "language_info": {
      "name": "python"
    }
  },
  "nbformat": 4,
  "nbformat_minor": 0
}
